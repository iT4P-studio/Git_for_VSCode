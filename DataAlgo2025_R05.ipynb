{
  "nbformat": 4,
  "nbformat_minor": 0,
  "metadata": {
    "colab": {
      "provenance": [],
      "collapsed_sections": [
        "-SqpuNOEWS-a",
        "c7rf54NjW5f2"
      ],
      "include_colab_link": true
    },
    "kernelspec": {
      "name": "python3",
      "display_name": "Python 3"
    }
  },
  "cells": [
    {
      "cell_type": "markdown",
      "metadata": {
        "id": "view-in-github",
        "colab_type": "text"
      },
      "source": [
        "<a href=\"https://colab.research.google.com/github/iT4P-studio/Git_for_VSCode/blob/master/DataAlgo2025_R05.ipynb\" target=\"_parent\"><img src=\"https://colab.research.google.com/assets/colab-badge.svg\" alt=\"Open In Colab\"/></a>"
      ]
    },
    {
      "cell_type": "markdown",
      "metadata": {
        "id": "-SqpuNOEWS-a"
      },
      "source": [
        "# データ構造とアルゴリズム 第5週課題 (2025/05/21 ver.A)\n",
        "\n",
        "---\n",
        "\n",
        "\n",
        "★下記３要素を**必ず直接書き換えてから**提出すること．\n",
        "\n",
        "* 学籍番号： 202599001\n",
        "* 氏名： 筑波 翼\n",
        "* Colabアカウント： tsukuba.tsubasa.dummy@gmail.com\n",
        "\n",
        "**学生同士で教えた・教わった・グループワークをした場合，必ず下記の当該行を直接書き換えて記述すること．**  \n",
        "申告があった場合は，論述などで内容が似ていたり，プログラムが似ていても減点はしない．（コピペレベルの同一文などは処罰対象）  \n",
        "**教えた側は加点対象となる．**\n",
        "\n",
        "**[教えた側]**  \n",
        "教えた相手：＜氏名＞　＜学籍番号＞  \n",
        "（何名いてもよい；教えた相手の内容が浅くなってないか確認すること）\n",
        "\n",
        "**[教わった側]**  \n",
        "教わった相手：＜氏名＞　＜学籍番号＞  \n",
        "（何名いてもよい；必ず教えた側に自分の名前を書いてもらうこと）\n",
        "\n",
        "**[グループワーク]**  \n",
        "一緒に行った相手：＜氏名＞　＜学籍番号＞  \n",
        "（何名いてもよいが，必ずお互いの名前を全員記すこと）\n"
      ]
    },
    {
      "cell_type": "markdown",
      "source": [
        "---\n",
        "# 必須課題5A トポロジカルソーティングアルゴリズムの説明\n",
        "\n",
        "DataAlgo_UT(006)_TopologicalSort 中で示している トポロジカルソーティングに沿って，グラフ4において，開始頂点を5にして図解してみせよ．\n",
        "\n",
        "* 本授業内容（講義資料参照）に即した説明であること．\n",
        "* （ChatGPT等に相談すると授業内容と異なることが多いので注意すること．これは本授業の課題すべてに共通）\n",
        "* 図解において頂点選択に同等の選択肢がある場合は頂点番号の小さいものから選ぶこと．\n",
        "\n",
        "図解については，YouTube Shortの形（２週目の課題参照）でテキストセルにURLを示すこと．（手書きで紙に書くこと．肉声で解説しながら書くこと．本人確認も兼ねてるので，ペンタブや合成音声などは全て認めません）  \n",
        "例 https://youtube.com/shorts/T2YnvHBectU  "
      ],
      "metadata": {
        "id": "7dIPn4v0OzEu"
      }
    },
    {
      "cell_type": "markdown",
      "source": [
        "（この文字列を消してここにURLを記述）"
      ],
      "metadata": {
        "id": "Pizx96TSQIsk"
      }
    },
    {
      "cell_type": "markdown",
      "metadata": {
        "id": "TjOgrYW8lAmy"
      },
      "source": [
        "---\n",
        "# 必須課題5B topologicalsorting_J の計算量\n",
        "\n",
        "DataAlgo_UT(006)_TopologicalSort 中で示している topologicalsorting_J の時間計算量と空間計算量について議論せよ．その計算過程（根拠）も示すこと．  \n",
        "（授業内で言及していた内容をまとめるだけでよい）  \n",
        "（ChatGPT等に相談すると授業内での言及と異なる説明をしてくることが多いので鵜呑みにしないこと．これは本授業の課題すべてに共通）  \n",
        "* 説明に必要なプログラム参照については，以下のコードセルに必要部分**のみ**を張り付けること．  \n",
        "* 文章による説明は以下のテキストセルを利用せよ．"
      ]
    },
    {
      "cell_type": "code",
      "source": [
        "// topologicalsorting_J の主要部分\n",
        "void topologicalSortUtil(int u) {\n",
        "    visited[u] = true;\n",
        "    for (int v : adj[u]) {\n",
        "        if (!visited[v]) topologicalSortUtil(v);\n",
        "    }\n",
        "    stack.push(u);\n",
        "}\n",
        "\n",
        "void topologicalsorting_J() {\n",
        "    for (int i = 0; i < V; i++) {\n",
        "        if (!visited[i]) topologicalSortUtil(i);\n",
        "    }\n",
        "    while (!stack.empty()) {\n",
        "        cout << stack.top() << \" \";\n",
        "        stack.pop();\n",
        "    }\n",
        "}"
      ],
      "metadata": {
        "id": "bzIKB-5kHVUG"
      },
      "execution_count": null,
      "outputs": []
    },
    {
      "cell_type": "markdown",
      "metadata": {
        "id": "mRLPlzcHmhiQ"
      },
      "source": [
        "*   時間計算量\n",
        "\n",
        "各頂点は一度だけ topologicalSortUtil が呼ばれ、各辺は隣接リスト走査で一度だけ訪問される。\n",
        "したがって、頂点数 V、辺数 E に対して O(V + E)。\n",
        "\n",
        "\n",
        "*   空間計算量\n",
        "\n",
        "隣接リスト：O(V + E)\n",
        "\n",
        "訪問管理配列 visited[]：O(V)\n",
        "\n",
        "再帰スタック（最悪深さ V）：O(V)\n",
        "\n",
        "出力用スタック：O(V)\n",
        "\n",
        "合計 O(V + E)（うち再帰スタックは O(V)）\n",
        "\n"
      ]
    },
    {
      "cell_type": "markdown",
      "metadata": {
        "id": "8NUVKBVvmvtw"
      },
      "source": [
        "---\n",
        "# 必須課題5C longestpath_J の計算量\n",
        "\n",
        "DataAlgo_UT(007)_LongestPath 中で示している longestpath_J の時間計算量と空間計算量について議論せよ．その計算過程（根拠）も示すこと．  \n",
        "（授業内で言及していた内容をまとめるだけでよい）  \n",
        "（ChatGPT等に相談すると授業内での言及と異なる説明をしてくることが多いので鵜呑みにしないこと．これは本授業の課題すべてに共通）  \n",
        "* 説明に必要なプログラム参照については，以下のコードセルに必要部分**のみ**を張り付けること．  \n",
        "* 文章による説明は以下のテキストセルを利用せよ．"
      ]
    },
    {
      "cell_type": "code",
      "source": [
        "// longestpath_J の主要部分（DataAlgo_UT(007) より）\n",
        "int dfsLongest(int u) {\n",
        "    if (dp[u] != -1) return dp[u];\n",
        "    int best = 0;\n",
        "    for (auto edge : adj[u]) {\n",
        "        int v = edge.to;\n",
        "        int w = edge.weight;\n",
        "        best = max(best, w + dfsLongest(v));\n",
        "    }\n",
        "    return dp[u] = best;\n",
        "}\n",
        "\n",
        "int longestpath_J() {\n",
        "    dp.assign(V, -1);\n",
        "    int answer = 0;\n",
        "    for (int i = 0; i < V; i++) {\n",
        "        answer = max(answer, dfsLongest(i));\n",
        "    }\n",
        "    return answer;\n",
        "}"
      ],
      "metadata": {
        "id": "bsF_3ZSyIZsI"
      },
      "execution_count": null,
      "outputs": []
    },
    {
      "cell_type": "markdown",
      "metadata": {
        "id": "B9Z8A8xin-Ru"
      },
      "source": [
        "*   時間計算量\n",
        "\n",
        "メモ化付き DFS なので、各頂点は 1 度だけ計算され、各辺は 1 度だけ緩和に用いられる。よって O(V + E)。\n",
        "\n",
        "\n",
        "*   空間計算量\n",
        "\n",
        "隣接リスト：O(V + E)\n",
        "\n",
        "DP 配列 dp[]：O(V)\n",
        "\n",
        "再帰スタック：最悪深さ V → O(V)\n",
        "\n",
        "よって合計 O(V + E)"
      ]
    },
    {
      "cell_type": "markdown",
      "metadata": {
        "id": "hRiIuzTTANJ_"
      },
      "source": [
        "---\n",
        "# 必須課題5D トポロジカルソーティングにける閉路の存在\n",
        "\n",
        "トポロジカルソーティングに与えるグラフには閉路が存在してはならない．  \n",
        "その理由を説明せよ．\n",
        "\n",
        "参考までに，2025年度のChatGPT(4o)で尋ねると本授業内容と整合しない説明を実際にしてくる(2025/05/21現在)．全てを鵜吞みにしないこと．"
      ]
    },
    {
      "cell_type": "markdown",
      "metadata": {
        "id": "q4ZmHSMKBGDd"
      },
      "source": [
        "例えば1→2→3→4→1のような閉路があった場合、1に訪問済みフラグが立つ前に再起処理によって1に戻ってきてしまい、無限ループに突入し永遠に再帰から戻れなくなってしまうため。"
      ]
    },
    {
      "cell_type": "markdown",
      "metadata": {
        "id": "sh-BC5I0A0ye"
      },
      "source": [
        "---\n",
        "# 必須課題5E 最長経路問題における閉路の存在への対応\n",
        "\n",
        "最長経路問題において，与えるグラフには閉路が存在していないと仮定した．  \n",
        "これは本授業の解法アルゴリズムにおいて，解が得られることを保証するためである．  \n",
        "そこで，閉路が存在しても解が得られるようにするには，問題をどのように変更すればよいか，議論せよ．\n",
        "\n",
        "参考までに，こちらはChatGPTさんに尋ねるとまぁまぁまともな説明をしてくるようである（が明日には不適切な説明を始めるかもしれないので，自分で理解して内容が合ってることを確かめること）．\n"
      ]
    },
    {
      "cell_type": "markdown",
      "metadata": {
        "id": "ZpaHbvVwBJha"
      },
      "source": [
        "「頂点の再訪問を禁止」し、同じ頂点を二度以上通らない（simple path）という制約を課す対策が考えられる。これにより閉路を一周するような無限ループを回避できるので、経路の長さは頂点数 -1 を上限に必ず有限となる。一方で、確実に解は得られるが計算量が予測できず、計算量が増大する。\n"
      ]
    },
    {
      "cell_type": "markdown",
      "metadata": {
        "id": "NTFmAWpPnnaz"
      },
      "source": [
        "---\n",
        "# 発展課題5X トポロジカルソーティングにおける閉路の扱い\n",
        "\n",
        "DataAlgo_UT(006)_TopologicalSort 中で示している topologicalsorting_J プログラムでは，実際に閉路が含まれるグラフを与えても実行すると結果が出てしまう．  \n",
        "これは，閉路があるとトポロジカルソーティングができないはず，ということと矛盾する．  \n",
        "つまり，本プログラムで実行結果がでるのは，グラフの解釈を都合のよいように勝手に変えているからと考えることができる．  \n",
        "それでは，本プログラムでは，与えられたグラフに閉路が存在するとき，それをどう解釈して解を得ているのか，説明を試みよ．  \n",
        "必要であれば説明用に適宜セルを追加してよい。\n",
        "\n"
      ]
    },
    {
      "cell_type": "code",
      "source": [
        "（必要なプログラムの一部はここに示すこと．必要に応じてセルを増やしてよい）"
      ],
      "metadata": {
        "id": "m2HsofuIOskH"
      },
      "execution_count": null,
      "outputs": []
    },
    {
      "cell_type": "markdown",
      "metadata": {
        "id": "ljT6EzOYnUZp"
      },
      "source": [
        "（議論はこの文字列を消してここに記述）"
      ]
    },
    {
      "cell_type": "markdown",
      "source": [
        "---\n",
        "#発展課題5Y 最長経路問題における閉路への対応\n",
        "\n",
        "一定の条件を新たに課すことで，最長経路問題を，本授業で以前に示した深さ優先探索プログラムを応用して解くことができるようになる．  \n",
        "（そのアルゴリズムはDataAlgo_UT(007)に沿ってなくてよい）  \n",
        "そのようなプログラムを作成し，実行して，閉路の存在するグラフに対して最長経路が得られることを確かめよ．  \n",
        "（おそらくは）このプログラムの時間計算量は指数時間オーダーになると予想される．その理由も説明せよ．"
      ],
      "metadata": {
        "id": "JOgEdvowS9II"
      }
    },
    {
      "cell_type": "code",
      "source": [
        "%%bash\n",
        "# 1) Cソースコードを作成：longest_simple_path.c\n",
        "cat > longest_simple_path.c << 'EOF'\n",
        "#include <stdio.h>\n",
        "#include <stdlib.h>\n",
        "\n",
        "int N, M;\n",
        "int **adj, *adj_size, *adj_cap;\n",
        "int max_len = 0;\n",
        "\n",
        "// 深さ優先探索（単純パスのみ）で最長経路長を更新\n",
        "void dfs(int u, int *visited, int length) {\n",
        "    if (length > max_len) {\n",
        "        max_len = length;\n",
        "    }\n",
        "    visited[u] = 1;\n",
        "    for (int i = 0; i < adj_size[u]; i++) {\n",
        "        int v = adj[u][i];\n",
        "        if (!visited[v]) {\n",
        "            dfs(v, visited, length + 1);\n",
        "        }\n",
        "    }\n",
        "    visited[u] = 0;\n",
        "}\n",
        "\n",
        "int main() {\n",
        "    // 入力: 頂点数 N, 辺数 M\n",
        "    if (scanf(\"%d %d\", &N, &M) != 2) return 0;\n",
        "\n",
        "    // 隣接リストの初期化\n",
        "    adj      = malloc(N * sizeof(int*));\n",
        "    adj_size = calloc(N, sizeof(int));\n",
        "    adj_cap  = malloc(N * sizeof(int));\n",
        "    for (int i = 0; i < N; i++) {\n",
        "        adj_cap[i]  = 4;\n",
        "        adj[i]      = malloc(adj_cap[i] * sizeof(int));\n",
        "        adj_size[i] = 0;\n",
        "    }\n",
        "\n",
        "    // 辺の読み込み (u -> v)\n",
        "    for (int i = 0; i < M; i++) {\n",
        "        int u, v;\n",
        "        scanf(\"%d %d\", &u, &v);\n",
        "        if (adj_size[u] == adj_cap[u]) {\n",
        "            adj_cap[u] *= 2;\n",
        "            adj[u] = realloc(adj[u], adj_cap[u] * sizeof(int));\n",
        "        }\n",
        "        adj[u][adj_size[u]++] = v;\n",
        "    }\n",
        "\n",
        "    // 各頂点を起点に DFS を実行\n",
        "    int *visited = calloc(N, sizeof(int));\n",
        "    for (int i = 0; i < N; i++) {\n",
        "        dfs(i, visited, 0);\n",
        "    }\n",
        "\n",
        "    // 結果表示\n",
        "    printf(\"Longest simple path length: %d\\n\", max_len);\n",
        "    return 0;\n",
        "}\n",
        "EOF\n"
      ],
      "metadata": {
        "id": "fTgdYt_3UX9R"
      },
      "execution_count": 18,
      "outputs": []
    },
    {
      "cell_type": "code",
      "source": [
        "%%bash\n",
        "# 2) コンパイル\n",
        "gcc -std=c99 longest_simple_path.c -o longest_simple_path\n",
        "\n",
        "# 3) テスト用グラフ (閉路あり)\n",
        "cat > graph_with_cycle.txt << 'EOF'\n",
        "4 4\n",
        "0 1\n",
        "1 2\n",
        "2 0\n",
        "2 3\n",
        "EOF\n",
        "\n",
        "echo \"=== Test: Graph with cycle ===\"\n",
        "echo \"Vertices: 0→1→2→0 (cycle), plus 2→3\"\n",
        "echo -n \"Result: \"\n",
        "./longest_simple_path < graph_with_cycle.txt\n"
      ],
      "metadata": {
        "id": "pvrTi6VVUhoz",
        "colab": {
          "base_uri": "https://localhost:8080/"
        },
        "outputId": "6c0f1eb6-705c-41d3-c48f-bfcefec92ef9"
      },
      "execution_count": 19,
      "outputs": [
        {
          "output_type": "stream",
          "name": "stdout",
          "text": [
            "=== Test: Graph with cycle ===\n",
            "Vertices: 0→1→2→0 (cycle), plus 2→3\n",
            "Result: Longest simple path length: 3\n"
          ]
        }
      ]
    },
    {
      "cell_type": "code",
      "source": [
        "=== Test: Graph with cycle ===\n",
        "Vertices: 0→1→2→0 (cycle), plus 2→3\n",
        "Result: Longest simple path length: 3"
      ],
      "metadata": {
        "id": "tiTMVAQgUlQE"
      },
      "execution_count": null,
      "outputs": []
    },
    {
      "cell_type": "markdown",
      "source": [
        "最悪で全ての単純パスを列挙するため、頂点数 𝑁 に対して指数時間（およそ 𝑂(𝑁! )となる。"
      ],
      "metadata": {
        "id": "dA2gTJVqUcV_"
      }
    },
    {
      "cell_type": "markdown",
      "metadata": {
        "id": "c7rf54NjW5f2"
      },
      "source": [
        "---\n",
        "# 課題提出法\n",
        "\n",
        "筑波大学工学システム学類３年生向け．  \n",
        "FG24711 / FG34711．  \n",
        "\n",
        "必須課題は全て実施すること．\n",
        "発展課題はしなくともよいが，A+取得には発展課題を（全課題提出を通して）1つ以上実施していることが必要条件である．\n",
        "\n",
        "# 出典\n",
        "\n",
        "筑波大学工学システム学類  \n",
        "データ構造とアルゴリズム  \n",
        "担当：亀田能成  \n"
      ]
    }
  ]
}